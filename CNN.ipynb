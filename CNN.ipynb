{
  "nbformat": 4,
  "nbformat_minor": 0,
  "metadata": {
    "kernelspec": {
      "name": "python3",
      "display_name": "Python 3.9.2 64-bit"
    },
    "language_info": {
      "codemirror_mode": {
        "name": "ipython",
        "version": 3
      },
      "file_extension": ".py",
      "mimetype": "text/x-python",
      "name": "python",
      "nbconvert_exporter": "python",
      "pygments_lexer": "ipython3",
      "version": "3.9.2"
    },
    "colab": {
      "name": "Convolutional.ipynb",
      "provenance": []
    },
    "interpreter": {
      "hash": "f84c5b2766fabba7bf4f79d1bde9a4a7e3ab3633a7a67f01c2ea531bb1b19fd8"
    }
  },
  "cells": [
    {
      "cell_type": "markdown",
      "metadata": {
        "id": "dfY-hT_95ek6"
      },
      "source": [
        "# CalTech 101 - Object classification\n",
        "\n",
        "In this experiment, we're going to do object classification using Caltech 101 dataset. The dataset is available [here](http://www.vision.caltech.edu/Image_Datasets/Caltech101/Caltech101.html#Discussion). The dataset contains images of 101 different objects, but isn't a large dataset. In fact, average number of images per category is just about 50. \n",
        "\n",
        "In this notebook, we do the following:\n",
        "1. **Imports** -- For each import, I've given the reason so it doesn't feel like a bunch of imports just put together.\n",
        "\n",
        "2. **[Download the dataset from the URL and extract it](#Download-the-dataset-to-a-folder-inside-this-directory)**\n",
        "\n",
        "3. **[Exploring dataset](#Exploring-dataset)** -- Here, we write basic methods to read images programmatically and check their shapes. Further, we see [how many images do we have per category](#How-many-images-we-have-for-each-category?)\n",
        "\n",
        "4. **[Create Dataset for ML](#Creating-Dataset-for-some-ML)** -- When you wish to use any frameworks/tools and do some machine learning, you need to have your training data, and testing data in a standard format. We will be creating our X and Y here. For object categories, we turn them to [one-hot encoded labels](#Making-one-hot-encoded-labels), and X is a [normalized numpy image array](#Basic-Normalization-(in-case-of-images)).\n",
        "Finally, we split the data to training and validation data. We choose 75% for training and 25% for validation purposes.\n",
        "\n",
        "5. **We try three different convolutional network approaches**, out of which two are written from scratch to test how they perform, while one is based on transfer learning and uses InceptionV3 as base model. We use Keras for this. An idea is brought from [SimpNet](https://arxiv.org/abs/1802.06205) paper, which is to not overly complicate the architecture or use larger kernel sizes without trying for smaller kernel sizes. Another thing that's common between both architectures is the use of softmax activation for the last layer - This makes sense since it is a multi-classification problem. For the same reason, categorical_crossentropy has been used as the loss function in both cases.\n",
        "\n",
        "    1. **[The first CNN Model](#Approach-1---A-Small-CNN)** - is a simple CNN which involves a couple of groups of Convolutional and MaxPooling layers followed by a single Fully Connected layer of 101 hidden units, standing for the 101 different classes. Validation accuracy of about 60% is peaked and high overfitting is observed.\n",
        "    \n",
        "    2. **[The second CNN Model](#Approach-2---CNN-Model-with-Dropout)** - uses Dropout layers and a bit deeper architecture. Almost similar validation accuracy is observed. While training, we can observe that overfitting isn't as great as in the first case.\n",
        "    \n",
        "    3. **[InceptionV3 based Transfer Learning](#Approach-3---Transfer-Learning)** - This model uses inceptionV3 as base model and just trains the last inception block and few Fully Connected layers added at the end. This performs the best among all models, however, could be thought of as overkill as it is quite a deep architecture for a small and easy dataset like Caltech.\n",
        "    \n",
        "    \n",
        "6. **[The average accuracy per category](#Accuracy-per-category)** - On the [discussion page](http://www.vision.caltech.edu/Image_Datasets/Caltech101/Caltech101.html#Discussion) of dataset, they suggest that to compare your results to existing papers, you should either use a specific number of training and testing examples OR, find accuracy per category and then average it out. In this section, we've tried finding average accuracy per category and it comes out to be about 83% for the models we've written from scratch - which is not bad. For the transfer learning model, it goes beyond 97%! \n",
        "\n",
        "7. **[What else can we do?](#What-else-can-we-do?)** - This section states what more could be done with this dataset if we had more time. "
      ]
    },
    {
      "cell_type": "markdown",
      "metadata": {
        "id": "pRLUhlw05ek9"
      },
      "source": [
        "## All Imports and their reasons"
      ]
    },
    {
      "cell_type": "code",
      "metadata": {
        "id": "mFCL2UZt5ek-",
        "colab": {
          "base_uri": "https://localhost:8080/"
        },
        "outputId": "b8ad1c64-4e40-475e-cb64-13c1003c8340"
      },
      "source": [
        "import urllib.request\n",
        "import os\n",
        "\n",
        "# For extracting dataset\n",
        "import tarfile\n",
        "\n",
        "# For reading images\n",
        "import cv2\n",
        "\n",
        "# Essentials :)\n",
        "import numpy as np\n",
        "# pretty printing python objects\n",
        "import pprint\n",
        "\n",
        "# for sorting dictionary by value\n",
        "import operator\n",
        "# for showing images inline\n",
        "from matplotlib.pyplot import imshow \n",
        "%matplotlib inline \n",
        "\n",
        "# for making labels one-hot encoded\n",
        "from sklearn.preprocessing import LabelEncoder\n",
        "import keras.utils\n",
        "\n",
        "# for splitting data into training and validation data\n",
        "from sklearn.model_selection import train_test_split\n",
        "\n",
        "# for CNN and NN models\n",
        "\n",
        "from keras.models import Sequential, Model\n",
        "from keras.layers import Conv2D, Input, Dropout, Activation, Dense, MaxPooling2D, Flatten, GlobalAveragePooling2D\n",
        "from keras.optimizers import Adadelta\n",
        "from keras.callbacks import ModelCheckpoint\n",
        "from keras.callbacks import EarlyStopping\n",
        "from keras.models import load_model\n",
        "\n",
        "# For transfer learning\n",
        "from keras.applications.inception_v3 import InceptionV3\n",
        "\n",
        "# to save models\n",
        "import json\n",
        "\n",
        "# for saving environment of notebook\n",
        "import dill\n",
        "\n",
        "# for printing size each variable is using\n",
        "import sys\n",
        "print(\"import done.\")"
      ],
      "execution_count": 4,
      "outputs": [
        {
          "output_type": "stream",
          "name": "stdout",
          "text": [
            "Collecting dill\n  Downloading dill-0.3.4-py2.py3-none-any.whl (86 kB)\nInstalling collected packages: dill\nSuccessfully installed dill-0.3.4\nimport done.\n"
          ]
        }
      ]
    },
    {
      "cell_type": "markdown",
      "metadata": {
        "id": "bN3yYs3_5ek_"
      },
      "source": [
        "## Download the dataset to a folder inside this directory\n",
        "\n",
        "This will download the dataset if it has not been downloaded. Further, we extract the dataset as well into /data/ directory in the current working directory. "
      ]
    },
    {
      "cell_type": "code",
      "metadata": {
        "id": "69G30OoH5ek_",
        "colab": {
          "base_uri": "https://localhost:8080/"
        },
        "outputId": "2da83afe-f66b-4688-89dd-6e56ae170e2f"
      },
      "source": [
        "URL_CALTECH_101_DATA = 'http://www.vision.caltech.edu/Image_Datasets/Caltech101/101_ObjectCategories.tar.gz'\n",
        "#using the drive id of the file to download from google drive\n",
        "file_id = '137RyRjvTBkBiIfeYBNZBtViDHQ6_Ewsp'\n",
        "!pip install googledrivedownloader\n",
        "from google_drive_downloader import GoogleDriveDownloader as gdd\n",
        "\n",
        "gdd.download_file_from_google_drive(file_id,\n",
        "                                    dest_path='./dataset.tar.gz')\n",
        "print(\"download done\")\n"
      ],
      "execution_count": 6,
      "outputs": [
        {
          "output_type": "stream",
          "name": "stdout",
          "text": [
            "Requirement already satisfied: googledrivedownloader in c:\\users\\leo\\appdata\\local\\programs\\python\\python39\\lib\\site-packages (0.4)\ndownload done\n"
          ]
        }
      ]
    },
    {
      "cell_type": "code",
      "metadata": {
        "id": "fRW1-YFF5elA",
        "colab": {
          "base_uri": "https://localhost:8080/"
        },
        "outputId": "98b320af-1f48-4184-c24e-e89276ce20bd"
      },
      "source": [
        "def extract_dataset(dataset_file_path, extraction_directory):\n",
        "    if (not os.path.exists(extraction_directory)):\n",
        "        os.makedirs(extraction_directory)\n",
        "    if (dataset_file_path.endswith(\"tar.gz\") or dataset_file_path.endswith(\".tgz\")):\n",
        "        tar = tarfile.open(dataset_file_path, \"r:gz\")\n",
        "        tar.extractall(path=extraction_directory)\n",
        "        tar.close()\n",
        "    elif (dataset_file_path.endswith(\"tar\")):\n",
        "        tar = tarfile.open(dataset_file_path, \"r:\")\n",
        "        tar.extractall(path=extraction_directory)\n",
        "        tar.close()\n",
        "    print(\"extraction done\")\n",
        "\n",
        "extract_dataset('./dataset.tar.gz','./data/')\n"
      ],
      "execution_count": 5,
      "outputs": [
        {
          "output_type": "stream",
          "text": [
            "extraction done\n"
          ],
          "name": "stdout"
        }
      ]
    },
    {
      "cell_type": "markdown",
      "metadata": {
        "id": "WhDdlGtu5elB"
      },
      "source": [
        "## Exploring dataset"
      ]
    },
    {
      "cell_type": "code",
      "metadata": {
        "id": "GfoWhad05elB"
      },
      "source": [
        "def get_images(object_category, data_directory):\n",
        "    if (not os.path.exists(data_directory)):\n",
        "        print(\"Data directory not found. Are you sure you downloaded and extracted dataset properly?\")\n",
        "        return\n",
        "    obj_category_dir = os.path.join(os.path.join(data_directory,\"101_ObjectCategories\"),object_category)\n",
        "    images = [os.path.join(obj_category_dir,img) for img in os.listdir(obj_category_dir)]\n",
        "    return images\n",
        "\n",
        "def read_image(image_path):\n",
        "    \"\"\"Read and resize individual images - Caltech 101 avg size of image is 300x200, so we resize accordingly\"\"\"\n",
        "    img = cv2.imread(image_path, cv2.IMREAD_COLOR)\n",
        "    img = cv2.resize(img, (300,200), interpolation=cv2.INTER_CUBIC)\n",
        "    return img"
      ],
      "execution_count": 6,
      "outputs": []
    },
    {
      "cell_type": "code",
      "metadata": {
        "id": "e07FMnsP5elB"
      },
      "source": [
        "dolphin_imgs = get_images('dolphin','./data')"
      ],
      "execution_count": 7,
      "outputs": []
    },
    {
      "cell_type": "code",
      "metadata": {
        "id": "sLtW63HE5elC",
        "colab": {
          "base_uri": "https://localhost:8080/",
          "height": 35
        },
        "outputId": "a802d0ce-53fe-44d0-b6a5-3bfb3e102f49"
      },
      "source": [
        "dolphin_imgs[0]"
      ],
      "execution_count": 8,
      "outputs": [
        {
          "output_type": "execute_result",
          "data": {
            "application/vnd.google.colaboratory.intrinsic+json": {
              "type": "string"
            },
            "text/plain": [
              "'./data/101_ObjectCategories/dolphin/image_0032.jpg'"
            ]
          },
          "metadata": {
            "tags": []
          },
          "execution_count": 8
        }
      ]
    },
    {
      "cell_type": "code",
      "metadata": {
        "id": "ODehnjF75elC"
      },
      "source": [
        "dolphin_test_img = read_image(dolphin_imgs[0])"
      ],
      "execution_count": 9,
      "outputs": []
    },
    {
      "cell_type": "code",
      "metadata": {
        "id": "sFS2BiTI5elC",
        "colab": {
          "base_uri": "https://localhost:8080/"
        },
        "outputId": "2a99fd7f-ff76-4eeb-c6f0-67adf880a4fd"
      },
      "source": [
        "dolphin_test_img.shape"
      ],
      "execution_count": 10,
      "outputs": [
        {
          "output_type": "execute_result",
          "data": {
            "text/plain": [
              "(200, 300, 3)"
            ]
          },
          "metadata": {
            "tags": []
          },
          "execution_count": 10
        }
      ]
    },
    {
      "cell_type": "markdown",
      "metadata": {
        "id": "O4SssRAr5elD"
      },
      "source": [
        "#### How many images we have for each category?"
      ]
    },
    {
      "cell_type": "code",
      "metadata": {
        "id": "0yyoK3TJ5elD"
      },
      "source": [
        "def return_images_per_category(data_directory):\n",
        "    categories = os.listdir(data_directory+\"/101_ObjectCategories/\")\n",
        "    object_images_count_dict = {}\n",
        "    for category in categories:\n",
        "        object_images_count_dict[category] = len(os.listdir(data_directory+\"/101_ObjectCategories/\"+category))\n",
        "    object_images_count_dict = sorted(object_images_count_dict.items(), key=operator.itemgetter(1), reverse=True)\n",
        "    return object_images_count_dict"
      ],
      "execution_count": 11,
      "outputs": []
    },
    {
      "cell_type": "code",
      "metadata": {
        "id": "HTbHAV-G5elD",
        "colab": {
          "base_uri": "https://localhost:8080/"
        },
        "outputId": "a9ecde4e-66eb-4066-92b5-a0dd80a43ed5"
      },
      "source": [
        "return_images_per_category('./data')"
      ],
      "execution_count": 12,
      "outputs": [
        {
          "output_type": "execute_result",
          "data": {
            "text/plain": [
              "[('airplanes', 800),\n",
              " ('Motorbikes', 798),\n",
              " ('BACKGROUND_Google', 468),\n",
              " ('Faces', 435),\n",
              " ('Faces_easy', 435),\n",
              " ('watch', 239),\n",
              " ('Leopards', 200),\n",
              " ('bonsai', 128),\n",
              " ('car_side', 123),\n",
              " ('ketch', 114),\n",
              " ('chandelier', 107),\n",
              " ('hawksbill', 100),\n",
              " ('grand_piano', 99),\n",
              " ('brain', 98),\n",
              " ('butterfly', 91),\n",
              " ('helicopter', 88),\n",
              " ('menorah', 87),\n",
              " ('starfish', 86),\n",
              " ('kangaroo', 86),\n",
              " ('trilobite', 86),\n",
              " ('sunflower', 85),\n",
              " ('buddha', 85),\n",
              " ('ewer', 85),\n",
              " ('scorpion', 84),\n",
              " ('revolver', 82),\n",
              " ('laptop', 81),\n",
              " ('ibis', 80),\n",
              " ('llama', 78),\n",
              " ('minaret', 76),\n",
              " ('umbrella', 75),\n",
              " ('electric_guitar', 75),\n",
              " ('crab', 73),\n",
              " ('crayfish', 70),\n",
              " ('cougar_face', 69),\n",
              " ('dragonfly', 68),\n",
              " ('flamingo', 67),\n",
              " ('dalmatian', 67),\n",
              " ('ferry', 67),\n",
              " ('lotus', 66),\n",
              " ('dolphin', 65),\n",
              " ('joshua_tree', 64),\n",
              " ('stop_sign', 64),\n",
              " ('soccer_ball', 64),\n",
              " ('euphonium', 64),\n",
              " ('elephant', 64),\n",
              " ('schooner', 63),\n",
              " ('chair', 62),\n",
              " ('lamp', 61),\n",
              " ('yin_yang', 60),\n",
              " ('wheelchair', 59),\n",
              " ('rhino', 59),\n",
              " ('stegosaurus', 59),\n",
              " ('cellphone', 59),\n",
              " ('sea_horse', 57),\n",
              " ('pyramid', 57),\n",
              " ('cup', 57),\n",
              " ('windsor_chair', 56),\n",
              " ('nautilus', 55),\n",
              " ('accordion', 55),\n",
              " ('bass', 54),\n",
              " ('hedgehog', 54),\n",
              " ('emu', 53),\n",
              " ('pizza', 53),\n",
              " ('dollar_bill', 52),\n",
              " ('crocodile_head', 51),\n",
              " ('gramophone', 51),\n",
              " ('camera', 50),\n",
              " ('crocodile', 50),\n",
              " ('rooster', 49),\n",
              " ('tick', 49),\n",
              " ('cougar_body', 47),\n",
              " ('pagoda', 47),\n",
              " ('ceiling_fan', 47),\n",
              " ('barrel', 47),\n",
              " ('beaver', 46),\n",
              " ('pigeon', 45),\n",
              " ('stapler', 45),\n",
              " ('flamingo_head', 45),\n",
              " ('mandolin', 43),\n",
              " ('cannon', 43),\n",
              " ('brontosaurus', 43),\n",
              " ('anchor', 42),\n",
              " ('ant', 42),\n",
              " ('headphone', 42),\n",
              " ('lobster', 41),\n",
              " ('saxophone', 40),\n",
              " ('mayfly', 40),\n",
              " ('okapi', 39),\n",
              " ('scissors', 39),\n",
              " ('wrench', 39),\n",
              " ('panda', 38),\n",
              " ('water_lilly', 37),\n",
              " ('strawberry', 35),\n",
              " ('octopus', 35),\n",
              " ('snoopy', 35),\n",
              " ('gerenuk', 34),\n",
              " ('platypus', 34),\n",
              " ('garfield', 34),\n",
              " ('wild_cat', 34),\n",
              " ('binocular', 33),\n",
              " ('metronome', 32),\n",
              " ('inline_skate', 31)]"
            ]
          },
          "metadata": {
            "tags": []
          },
          "execution_count": 12
        }
      ]
    },
    {
      "cell_type": "code",
      "metadata": {
        "id": "NIXeQUvd5elD",
        "colab": {
          "base_uri": "https://localhost:8080/"
        },
        "outputId": "135c9a32-00e8-4f6a-fcf6-ca663187db19"
      },
      "source": [
        "len(return_images_per_category('./data'))"
      ],
      "execution_count": 13,
      "outputs": [
        {
          "output_type": "execute_result",
          "data": {
            "text/plain": [
              "102"
            ]
          },
          "metadata": {
            "tags": []
          },
          "execution_count": 13
        }
      ]
    },
    {
      "cell_type": "markdown",
      "metadata": {
        "id": "AaVk99Dl5elE"
      },
      "source": [
        "**The number of objects we need to classify is 101. So, we can actually ignore the BACKGROUND_Google directory**"
      ]
    },
    {
      "cell_type": "markdown",
      "metadata": {
        "id": "8HQ5hOJr5elE"
      },
      "source": [
        "## Creating Dataset for some ML"
      ]
    },
    {
      "cell_type": "markdown",
      "metadata": {
        "id": "6lcACHBs5elE"
      },
      "source": [
        "For machine learning, we need to convert the dataset into X and Y, wherein \n",
        "\n",
        "*X* would look something like **(num_of_total_images, ROWS, COLS, CHANNELS)** \n",
        "\n",
        "`The ROWS and COLS need to be fixed, however we have varied sized images. This is why the read_image method above resizes each image to 300x200 which is the average size of images (so most images wouldn't be affected).`\n",
        "\n",
        "*Y* would be **(num_of_total_images, 1)**"
      ]
    },
    {
      "cell_type": "markdown",
      "metadata": {
        "id": "OF4zAIP25elE"
      },
      "source": [
        "**What's the total number of images we need in our dataset?**"
      ]
    },
    {
      "cell_type": "code",
      "metadata": {
        "id": "KepQSIW85elE",
        "colab": {
          "base_uri": "https://localhost:8080/"
        },
        "outputId": "b84e3b77-ddfb-410d-8365-fc133a20d5f8"
      },
      "source": [
        "total_count = 0\n",
        "for category,count in return_images_per_category('./data'):\n",
        "    if category == 'BACKGROUND_Google':\n",
        "        continue;\n",
        "    total_count += count\n",
        "print(\"Total number of images in training data : \",total_count)"
      ],
      "execution_count": 14,
      "outputs": [
        {
          "output_type": "stream",
          "text": [
            "Total number of images in training data :  8677\n"
          ],
          "name": "stdout"
        }
      ]
    },
    {
      "cell_type": "code",
      "metadata": {
        "id": "lPm_-XDo5elF"
      },
      "source": [
        "def create_training_data(data_directory):\n",
        "    i = 0\n",
        "    X = np.ndarray((8677, 200, 300, 3), dtype=np.uint8)\n",
        "    Y = []\n",
        "    print(\"Preparing X and Y for dataset...\")\n",
        "    for category,_ in return_images_per_category(data_directory):\n",
        "        if category == 'BACKGROUND_Google':\n",
        "            continue\n",
        "        print(\"Processing images of \",category)\n",
        "        for image in get_images(category, data_directory):\n",
        "            if not image.endswith('.jpg'):\n",
        "                # to escape hidden ipynb checkpoints and other unnecessary files \n",
        "                continue\n",
        "            X[i] = read_image(image)\n",
        "            Y.insert(i,category) \n",
        "            i += 1\n",
        "        print(\"Images processed : \",i+1,\" of 8678\")\n",
        "    print(\"Datasets constructed\")\n",
        "    return X,Y"
      ],
      "execution_count": 15,
      "outputs": []
    },
    {
      "cell_type": "code",
      "metadata": {
        "id": "T7VsKzzE5elF",
        "colab": {
          "base_uri": "https://localhost:8080/"
        },
        "outputId": "96432615-e1c1-4b3a-8441-e89741ae8e5c"
      },
      "source": [
        "X, Y = create_training_data('./data')"
      ],
      "execution_count": 16,
      "outputs": [
        {
          "output_type": "stream",
          "text": [
            "Preparing X and Y for dataset...\n",
            "Processing images of  airplanes\n",
            "Images processed :  801  of 8678\n",
            "Processing images of  Motorbikes\n",
            "Images processed :  1599  of 8678\n",
            "Processing images of  Faces\n",
            "Images processed :  2034  of 8678\n",
            "Processing images of  Faces_easy\n",
            "Images processed :  2469  of 8678\n",
            "Processing images of  watch\n",
            "Images processed :  2708  of 8678\n",
            "Processing images of  Leopards\n",
            "Images processed :  2908  of 8678\n",
            "Processing images of  bonsai\n",
            "Images processed :  3036  of 8678\n",
            "Processing images of  car_side\n",
            "Images processed :  3159  of 8678\n",
            "Processing images of  ketch\n",
            "Images processed :  3273  of 8678\n",
            "Processing images of  chandelier\n",
            "Images processed :  3380  of 8678\n",
            "Processing images of  hawksbill\n",
            "Images processed :  3480  of 8678\n",
            "Processing images of  grand_piano\n",
            "Images processed :  3579  of 8678\n",
            "Processing images of  brain\n",
            "Images processed :  3677  of 8678\n",
            "Processing images of  butterfly\n",
            "Images processed :  3768  of 8678\n",
            "Processing images of  helicopter\n",
            "Images processed :  3856  of 8678\n",
            "Processing images of  menorah\n",
            "Images processed :  3943  of 8678\n",
            "Processing images of  starfish\n",
            "Images processed :  4029  of 8678\n",
            "Processing images of  kangaroo\n",
            "Images processed :  4115  of 8678\n",
            "Processing images of  trilobite\n",
            "Images processed :  4201  of 8678\n",
            "Processing images of  sunflower\n",
            "Images processed :  4286  of 8678\n",
            "Processing images of  buddha\n",
            "Images processed :  4371  of 8678\n",
            "Processing images of  ewer\n",
            "Images processed :  4456  of 8678\n",
            "Processing images of  scorpion\n",
            "Images processed :  4540  of 8678\n",
            "Processing images of  revolver\n",
            "Images processed :  4622  of 8678\n",
            "Processing images of  laptop\n",
            "Images processed :  4703  of 8678\n",
            "Processing images of  ibis\n",
            "Images processed :  4783  of 8678\n",
            "Processing images of  llama\n",
            "Images processed :  4861  of 8678\n",
            "Processing images of  minaret\n",
            "Images processed :  4937  of 8678\n",
            "Processing images of  umbrella\n",
            "Images processed :  5012  of 8678\n",
            "Processing images of  electric_guitar\n",
            "Images processed :  5087  of 8678\n",
            "Processing images of  crab\n",
            "Images processed :  5160  of 8678\n",
            "Processing images of  crayfish\n",
            "Images processed :  5230  of 8678\n",
            "Processing images of  cougar_face\n",
            "Images processed :  5299  of 8678\n",
            "Processing images of  dragonfly\n",
            "Images processed :  5367  of 8678\n",
            "Processing images of  flamingo\n",
            "Images processed :  5434  of 8678\n",
            "Processing images of  dalmatian\n",
            "Images processed :  5501  of 8678\n",
            "Processing images of  ferry\n",
            "Images processed :  5568  of 8678\n",
            "Processing images of  lotus\n",
            "Images processed :  5634  of 8678\n",
            "Processing images of  dolphin\n",
            "Images processed :  5699  of 8678\n",
            "Processing images of  joshua_tree\n",
            "Images processed :  5763  of 8678\n",
            "Processing images of  stop_sign\n",
            "Images processed :  5827  of 8678\n",
            "Processing images of  soccer_ball\n",
            "Images processed :  5891  of 8678\n",
            "Processing images of  euphonium\n",
            "Images processed :  5955  of 8678\n",
            "Processing images of  elephant\n",
            "Images processed :  6019  of 8678\n",
            "Processing images of  schooner\n",
            "Images processed :  6082  of 8678\n",
            "Processing images of  chair\n",
            "Images processed :  6144  of 8678\n",
            "Processing images of  lamp\n",
            "Images processed :  6205  of 8678\n",
            "Processing images of  yin_yang\n",
            "Images processed :  6265  of 8678\n",
            "Processing images of  wheelchair\n",
            "Images processed :  6324  of 8678\n",
            "Processing images of  rhino\n",
            "Images processed :  6383  of 8678\n",
            "Processing images of  stegosaurus\n",
            "Images processed :  6442  of 8678\n",
            "Processing images of  cellphone\n",
            "Images processed :  6501  of 8678\n",
            "Processing images of  sea_horse\n",
            "Images processed :  6558  of 8678\n",
            "Processing images of  pyramid\n",
            "Images processed :  6615  of 8678\n",
            "Processing images of  cup\n",
            "Images processed :  6672  of 8678\n",
            "Processing images of  windsor_chair\n",
            "Images processed :  6728  of 8678\n",
            "Processing images of  nautilus\n",
            "Images processed :  6783  of 8678\n",
            "Processing images of  accordion\n",
            "Images processed :  6838  of 8678\n",
            "Processing images of  bass\n",
            "Images processed :  6892  of 8678\n",
            "Processing images of  hedgehog\n",
            "Images processed :  6946  of 8678\n",
            "Processing images of  emu\n",
            "Images processed :  6999  of 8678\n",
            "Processing images of  pizza\n",
            "Images processed :  7052  of 8678\n",
            "Processing images of  dollar_bill\n",
            "Images processed :  7104  of 8678\n",
            "Processing images of  crocodile_head\n",
            "Images processed :  7155  of 8678\n",
            "Processing images of  gramophone\n",
            "Images processed :  7206  of 8678\n",
            "Processing images of  camera\n",
            "Images processed :  7256  of 8678\n",
            "Processing images of  crocodile\n",
            "Images processed :  7306  of 8678\n",
            "Processing images of  rooster\n",
            "Images processed :  7355  of 8678\n",
            "Processing images of  tick\n",
            "Images processed :  7404  of 8678\n",
            "Processing images of  cougar_body\n",
            "Images processed :  7451  of 8678\n",
            "Processing images of  pagoda\n",
            "Images processed :  7498  of 8678\n",
            "Processing images of  ceiling_fan\n",
            "Images processed :  7545  of 8678\n",
            "Processing images of  barrel\n",
            "Images processed :  7592  of 8678\n",
            "Processing images of  beaver\n",
            "Images processed :  7638  of 8678\n",
            "Processing images of  pigeon\n",
            "Images processed :  7683  of 8678\n",
            "Processing images of  stapler\n",
            "Images processed :  7728  of 8678\n",
            "Processing images of  flamingo_head\n",
            "Images processed :  7773  of 8678\n",
            "Processing images of  mandolin\n",
            "Images processed :  7816  of 8678\n",
            "Processing images of  cannon\n",
            "Images processed :  7859  of 8678\n",
            "Processing images of  brontosaurus\n",
            "Images processed :  7902  of 8678\n",
            "Processing images of  anchor\n",
            "Images processed :  7944  of 8678\n",
            "Processing images of  ant\n",
            "Images processed :  7986  of 8678\n",
            "Processing images of  headphone\n",
            "Images processed :  8028  of 8678\n",
            "Processing images of  lobster\n",
            "Images processed :  8069  of 8678\n",
            "Processing images of  saxophone\n",
            "Images processed :  8109  of 8678\n",
            "Processing images of  mayfly\n",
            "Images processed :  8149  of 8678\n",
            "Processing images of  okapi\n",
            "Images processed :  8188  of 8678\n",
            "Processing images of  scissors\n",
            "Images processed :  8227  of 8678\n",
            "Processing images of  wrench\n",
            "Images processed :  8266  of 8678\n",
            "Processing images of  panda\n",
            "Images processed :  8304  of 8678\n",
            "Processing images of  water_lilly\n",
            "Images processed :  8341  of 8678\n",
            "Processing images of  strawberry\n",
            "Images processed :  8376  of 8678\n",
            "Processing images of  octopus\n",
            "Images processed :  8411  of 8678\n",
            "Processing images of  snoopy\n",
            "Images processed :  8446  of 8678\n",
            "Processing images of  gerenuk\n",
            "Images processed :  8480  of 8678\n",
            "Processing images of  platypus\n",
            "Images processed :  8514  of 8678\n",
            "Processing images of  garfield\n",
            "Images processed :  8548  of 8678\n",
            "Processing images of  wild_cat\n",
            "Images processed :  8582  of 8678\n",
            "Processing images of  binocular\n",
            "Images processed :  8615  of 8678\n",
            "Processing images of  metronome\n",
            "Images processed :  8647  of 8678\n",
            "Processing images of  inline_skate\n",
            "Images processed :  8678  of 8678\n",
            "Datasets constructed\n"
          ],
          "name": "stdout"
        }
      ]
    },
    {
      "cell_type": "markdown",
      "metadata": {
        "id": "BkKQ2djc5elF"
      },
      "source": [
        "** Checking datasets sanity **"
      ]
    },
    {
      "cell_type": "code",
      "metadata": {
        "id": "6qO3fY9Y5elF",
        "colab": {
          "base_uri": "https://localhost:8080/"
        },
        "outputId": "1ef36eec-61d9-47dc-ccbc-a1130e0ab3b2"
      },
      "source": [
        "X.shape"
      ],
      "execution_count": 17,
      "outputs": [
        {
          "output_type": "execute_result",
          "data": {
            "text/plain": [
              "(8677, 200, 300, 3)"
            ]
          },
          "metadata": {
            "tags": []
          },
          "execution_count": 17
        }
      ]
    },
    {
      "cell_type": "markdown",
      "metadata": {
        "id": "_LVGrmgd5elG"
      },
      "source": [
        "Let's check a random example and see if its class matches or not"
      ]
    },
    {
      "cell_type": "code",
      "metadata": {
        "id": "knu-LDro5elG",
        "colab": {
          "base_uri": "https://localhost:8080/",
          "height": 35
        },
        "outputId": "d1f5d142-5c02-43d9-8b69-7c2aa43164c7"
      },
      "source": [
        "Y[2323]"
      ],
      "execution_count": 18,
      "outputs": [
        {
          "output_type": "execute_result",
          "data": {
            "application/vnd.google.colaboratory.intrinsic+json": {
              "type": "string"
            },
            "text/plain": [
              "'Faces_easy'"
            ]
          },
          "metadata": {
            "tags": []
          },
          "execution_count": 18
        }
      ]
    },
    {
      "cell_type": "code",
      "metadata": {
        "id": "7cD9PnAj5elG",
        "colab": {
          "base_uri": "https://localhost:8080/",
          "height": 286
        },
        "outputId": "851b06d5-a3ba-4284-b729-ef390d438b34"
      },
      "source": [
        "imshow(X[2323])"
      ],
      "execution_count": 19,
      "outputs": [
        {
          "output_type": "execute_result",
          "data": {
            "text/plain": [
              "<matplotlib.image.AxesImage at 0x7fa00d952c10>"
            ]
          },
          "metadata": {
            "tags": []
          },
          "execution_count": 19
        },
        {
          "output_type": "display_data",
          "data": {
            "image/png": "[encoded data removed]",
            "text/plain": [
              "<Figure size 432x288 with 1 Axes>"
            ]
          },
          "metadata": {
            "tags": [],
            "needs_background": "light"
          }
        }
      ]
    },
    {
      "cell_type": "code",
      "metadata": {
        "id": "YcCSSzaq5elG",
        "colab": {
          "base_uri": "https://localhost:8080/",
          "height": 35
        },
        "outputId": "1e00e68f-0442-4cb4-830d-5af302799dff"
      },
      "source": [
        "Y[1001]"
      ],
      "execution_count": 20,
      "outputs": [
        {
          "output_type": "execute_result",
          "data": {
            "application/vnd.google.colaboratory.intrinsic+json": {
              "type": "string"
            },
            "text/plain": [
              "'Motorbikes'"
            ]
          },
          "metadata": {
            "tags": []
          },
          "execution_count": 20
        }
      ]
    },
    {
      "cell_type": "code",
      "metadata": {
        "id": "0c0i_auz5elH",
        "colab": {
          "base_uri": "https://localhost:8080/",
          "height": 286
        },
        "outputId": "a6a8c5e9-63b2-4622-aabe-6ac8bfdb1570"
      },
      "source": [
        "imshow(X[1001])"
      ],
      "execution_count": 21,
      "outputs": [
        {
          "output_type": "execute_result",
          "data": {
            "text/plain": [
              "<matplotlib.image.AxesImage at 0x7fa00e0e5f90>"
            ]
          },
          "metadata": {
            "tags": []
          },
          "execution_count": 21
        },
        {
          "output_type": "display_data",
          "data": {
            "image/png": "[encoded data removed]",
            "text/plain": [
              "<Figure size 432x288 with 1 Axes>"
            ]
          },
          "metadata": {
            "tags": [],
            "needs_background": "light"
          }
        }
      ]
    },
    {
      "cell_type": "markdown",
      "metadata": {
        "id": "RvCsuVUl5elH"
      },
      "source": [
        "Seems all good. "
      ]
    },
    {
      "cell_type": "markdown",
      "metadata": {
        "id": "69NXtG405elH"
      },
      "source": [
        "### Making one-hot encoded labels"
      ]
    },
    {
      "cell_type": "code",
      "metadata": {
        "id": "F-NaSECJ5elH",
        "colab": {
          "base_uri": "https://localhost:8080/"
        },
        "outputId": "a5fec23a-77e8-4727-b859-7aa2ec16f855"
      },
      "source": [
        "label_encoder = LabelEncoder()\n",
        "Y_integer_encoded = label_encoder.fit_transform(Y)\n",
        "Y_integer_encoded"
      ],
      "execution_count": 22,
      "outputs": [
        {
          "output_type": "execute_result",
          "data": {
            "text/plain": [
              "array([ 5,  5,  5, ..., 52, 52, 52])"
            ]
          },
          "metadata": {
            "tags": []
          },
          "execution_count": 22
        }
      ]
    },
    {
      "cell_type": "code",
      "metadata": {
        "id": "RJCYAj-i5elH"
      },
      "source": [
        "np.save('label_encoder.npy', label_encoder.classes_)"
      ],
      "execution_count": 23,
      "outputs": []
    },
    {
      "cell_type": "code",
      "metadata": {
        "id": "xt5J91vp5elH",
        "colab": {
          "base_uri": "https://localhost:8080/"
        },
        "outputId": "c40d4341-b976-4ccb-e362-26e7bedae311"
      },
      "source": [
        "len(Y_integer_encoded)"
      ],
      "execution_count": 24,
      "outputs": [
        {
          "output_type": "execute_result",
          "data": {
            "text/plain": [
              "8677"
            ]
          },
          "metadata": {
            "tags": []
          },
          "execution_count": 24
        }
      ]
    },
    {
      "cell_type": "code",
      "metadata": {
        "id": "HcjH8muG5elI",
        "colab": {
          "base_uri": "https://localhost:8080/"
        },
        "outputId": "fe053879-85d5-47be-beff-26a1bbfd3dfb"
      },
      "source": [
        "len(Y)"
      ],
      "execution_count": 25,
      "outputs": [
        {
          "output_type": "execute_result",
          "data": {
            "text/plain": [
              "8677"
            ]
          },
          "metadata": {
            "tags": []
          },
          "execution_count": 25
        }
      ]
    },
    {
      "cell_type": "code",
      "metadata": {
        "id": "I_NvTTNr5elI",
        "colab": {
          "base_uri": "https://localhost:8080/"
        },
        "outputId": "7cfb8df1-f0db-4862-846a-4bde91250f44"
      },
      "source": [
        "len(X)"
      ],
      "execution_count": 26,
      "outputs": [
        {
          "output_type": "execute_result",
          "data": {
            "text/plain": [
              "8677"
            ]
          },
          "metadata": {
            "tags": []
          },
          "execution_count": 26
        }
      ]
    },
    {
      "cell_type": "markdown",
      "metadata": {
        "id": "kuIWlEQb5elI"
      },
      "source": [
        "Integers have ordering property which we don't want our ML models to learn since an apple isn't in any way greater than an airplane.\n",
        "So, we must create a one-hot encoding. "
      ]
    },
    {
      "cell_type": "code",
      "metadata": {
        "id": "HK5RzpG85elI",
        "colab": {
          "base_uri": "https://localhost:8080/"
        },
        "outputId": "47c24457-69f5-439b-ec50-f4e9138500b0"
      },
      "source": [
        "from tensorflow.keras.utils import to_categorical\n",
        "Y_one_hot = to_categorical(Y_integer_encoded)\n",
        "Y_one_hot"
      ],
      "execution_count": 27,
      "outputs": [
        {
          "output_type": "execute_result",
          "data": {
            "text/plain": [
              "array([[0., 0., 0., ..., 0., 0., 0.],\n",
              "       [0., 0., 0., ..., 0., 0., 0.],\n",
              "       [0., 0., 0., ..., 0., 0., 0.],\n",
              "       ...,\n",
              "       [0., 0., 0., ..., 0., 0., 0.],\n",
              "       [0., 0., 0., ..., 0., 0., 0.],\n",
              "       [0., 0., 0., ..., 0., 0., 0.]], dtype=float32)"
            ]
          },
          "metadata": {
            "tags": []
          },
          "execution_count": 27
        }
      ]
    },
    {
      "cell_type": "code",
      "metadata": {
        "id": "2QUD1VgH5elI",
        "colab": {
          "base_uri": "https://localhost:8080/"
        },
        "outputId": "20e7972c-f020-40f4-b5a3-da28997ff97a"
      },
      "source": [
        "Y_one_hot[0]"
      ],
      "execution_count": 28,
      "outputs": [
        {
          "output_type": "execute_result",
          "data": {
            "text/plain": [
              "array([0., 0., 0., 0., 0., 1., 0., 0., 0., 0., 0., 0., 0., 0., 0., 0., 0.,\n",
              "       0., 0., 0., 0., 0., 0., 0., 0., 0., 0., 0., 0., 0., 0., 0., 0., 0.,\n",
              "       0., 0., 0., 0., 0., 0., 0., 0., 0., 0., 0., 0., 0., 0., 0., 0., 0.,\n",
              "       0., 0., 0., 0., 0., 0., 0., 0., 0., 0., 0., 0., 0., 0., 0., 0., 0.,\n",
              "       0., 0., 0., 0., 0., 0., 0., 0., 0., 0., 0., 0., 0., 0., 0., 0., 0.,\n",
              "       0., 0., 0., 0., 0., 0., 0., 0., 0., 0., 0., 0., 0., 0., 0., 0.],\n",
              "      dtype=float32)"
            ]
          },
          "metadata": {
            "tags": []
          },
          "execution_count": 28
        }
      ]
    },
    {
      "cell_type": "code",
      "metadata": {
        "id": "SHbbXSlm5elJ",
        "colab": {
          "base_uri": "https://localhost:8080/"
        },
        "outputId": "7c54f7fa-8a22-48c1-d121-ea5fe72f43a6"
      },
      "source": [
        "len(Y_one_hot[0])"
      ],
      "execution_count": 29,
      "outputs": [
        {
          "output_type": "execute_result",
          "data": {
            "text/plain": [
              "101"
            ]
          },
          "metadata": {
            "tags": []
          },
          "execution_count": 29
        }
      ]
    },
    {
      "cell_type": "markdown",
      "metadata": {
        "id": "16xRVbnK5elJ"
      },
      "source": [
        "To get back the label for any one-hot encoded label"
      ]
    },
    {
      "cell_type": "code",
      "metadata": {
        "id": "8Nd1kjrN5elJ",
        "colab": {
          "base_uri": "https://localhost:8080/",
          "height": 162
        },
        "outputId": "ff4712da-ce08-446a-bb8d-ecbd333d5b66"
      },
      "source": [
        "label_encoder.inverse_transform(np.argmax(Y_one_hot[0]))"
      ],
      "execution_count": 2,
      "outputs": [
        {
          "output_type": "error",
          "ename": "NameError",
          "evalue": "ignored",
          "traceback": [
            "\u001b[0;31m---------------------------------------------------------------------------\u001b[0m",
            "\u001b[0;31mNameError\u001b[0m                                 Traceback (most recent call last)",
            "\u001b[0;32m<ipython-input-2-650716302bb9>\u001b[0m in \u001b[0;36m<module>\u001b[0;34m()\u001b[0m\n\u001b[0;32m----> 1\u001b[0;31m \u001b[0mlabel_encoder\u001b[0m\u001b[0;34m.\u001b[0m\u001b[0minverse_transform\u001b[0m\u001b[0;34m(\u001b[0m\u001b[0mnp\u001b[0m\u001b[0;34m.\u001b[0m\u001b[0margmax\u001b[0m\u001b[0;34m(\u001b[0m\u001b[0mY_one_hot\u001b[0m\u001b[0;34m[\u001b[0m\u001b[0;36m0\u001b[0m\u001b[0;34m]\u001b[0m\u001b[0;34m)\u001b[0m\u001b[0;34m)\u001b[0m\u001b[0;34m\u001b[0m\u001b[0;34m\u001b[0m\u001b[0m\n\u001b[0m",
            "\u001b[0;31mNameError\u001b[0m: name 'label_encoder' is not defined"
          ]
        }
      ]
    },
    {
      "cell_type": "markdown",
      "metadata": {
        "id": "dyCmaWab5elJ"
      },
      "source": [
        "### Basic Normalization (in case of images)"
      ]
    },
    {
      "cell_type": "code",
      "metadata": {
        "id": "QtqZDPkR5elJ"
      },
      "source": [
        "X_normalized = X.astype(np.float64) / 255"
      ],
      "execution_count": null,
      "outputs": []
    },
    {
      "cell_type": "code",
      "metadata": {
        "id": "EBDW0LuN5elK"
      },
      "source": [
        "X[0]"
      ],
      "execution_count": null,
      "outputs": []
    },
    {
      "cell_type": "code",
      "metadata": {
        "id": "Xy5NsQ4l5elK"
      },
      "source": [
        "X_normalized[0]"
      ],
      "execution_count": null,
      "outputs": []
    },
    {
      "cell_type": "code",
      "metadata": {
        "id": "B5SSb63S5elK"
      },
      "source": [
        "# We wouldn't require X anymore, so, let's free up some memory\n",
        "del X"
      ],
      "execution_count": null,
      "outputs": []
    },
    {
      "cell_type": "markdown",
      "metadata": {
        "id": "hQIVNLiT5elK"
      },
      "source": [
        "### Splitting the Data"
      ]
    },
    {
      "cell_type": "code",
      "metadata": {
        "id": "s_RIoE_w5elK"
      },
      "source": [
        "X_train, X_validation, Y_train, Y_validation = train_test_split(X_normalized, Y_one_hot, test_size=0.25, random_state=42)"
      ],
      "execution_count": null,
      "outputs": []
    },
    {
      "cell_type": "code",
      "metadata": {
        "id": "mOeRVYzE5elK"
      },
      "source": [
        "X_train.shape"
      ],
      "execution_count": null,
      "outputs": []
    },
    {
      "cell_type": "code",
      "metadata": {
        "id": "UGXcbdyj5elL"
      },
      "source": [
        "Y_train.shape"
      ],
      "execution_count": null,
      "outputs": []
    },
    {
      "cell_type": "markdown",
      "metadata": {
        "id": "Wd3mDIom5elL"
      },
      "source": [
        "Sanity Check"
      ]
    },
    {
      "cell_type": "code",
      "metadata": {
        "id": "x2vf0U9v5elL"
      },
      "source": [
        "imshow(X_train[6001])"
      ],
      "execution_count": null,
      "outputs": []
    },
    {
      "cell_type": "code",
      "metadata": {
        "id": "67tEUb5P5elL"
      },
      "source": [
        "label_encoder.inverse_transform(np.argmax(Y_train[6001]))"
      ],
      "execution_count": null,
      "outputs": []
    },
    {
      "cell_type": "markdown",
      "metadata": {
        "id": "Garh9RTm5elL"
      },
      "source": [
        "## Saving notebook environment till here"
      ]
    },
    {
      "cell_type": "code",
      "metadata": {
        "id": "ZzdQFuKR5elM"
      },
      "source": [
        "dill.dump_session('notebook_env_until_nn_models.db')"
      ],
      "execution_count": null,
      "outputs": []
    },
    {
      "cell_type": "markdown",
      "metadata": {
        "id": "AFmUe74-5elM"
      },
      "source": [
        "## Approach 1 - A Small CNN"
      ]
    },
    {
      "cell_type": "markdown",
      "metadata": {
        "id": "apB5ZaJ55elM"
      },
      "source": [
        "**Defining Model Architecture**"
      ]
    },
    {
      "cell_type": "code",
      "metadata": {
        "id": "BbnL-ueU5elM"
      },
      "source": [
        "model_cnn = Sequential()\n",
        "model_cnn.add(Conv2D(16, (3,3), activation='relu', input_shape=(200,300,3)))\n",
        "model_cnn.add(Conv2D(32, (3,3), activation='relu'))\n",
        "model_cnn.add(MaxPooling2D(pool_size=2, strides=2))\n",
        "model_cnn.add(Conv2D(64, (3,3), activation='relu'))\n",
        "model_cnn.add(Conv2D(128, (3,3), activation='relu'))\n",
        "model_cnn.add(MaxPooling2D(pool_size=2, strides=2))\n",
        "model_cnn.add(Flatten())\n",
        "model_cnn.add(Dense(101, activation='softmax'))\n",
        "model_cnn.summary()"
      ],
      "execution_count": null,
      "outputs": []
    },
    {
      "cell_type": "markdown",
      "metadata": {
        "id": "rYgd3ooQ5elM"
      },
      "source": [
        "**Defining Loss and Optimizer**"
      ]
    },
    {
      "cell_type": "code",
      "metadata": {
        "id": "K4KQzNr65elM"
      },
      "source": [
        "model_cnn.compile(loss='categorical_crossentropy',optimizer='adam', metrics=['accuracy'])"
      ],
      "execution_count": null,
      "outputs": []
    },
    {
      "cell_type": "code",
      "metadata": {
        "id": "GAv5zsDI5elN"
      },
      "source": [
        "callbacks = [ModelCheckpoint('cnn_model.h5', monitor='val_acc', save_best_only=True),\n",
        "            EarlyStopping(monitor='val_loss', patience=4, verbose=1, mode='auto')]\n",
        "model_cnn.fit(X_train, Y_train, batch_size=64, epochs=30, verbose=1, validation_data=(X_validation,Y_validation), callbacks=callbacks)"
      ],
      "execution_count": null,
      "outputs": []
    },
    {
      "cell_type": "code",
      "metadata": {
        "id": "PaLVbn585elN"
      },
      "source": [
        "json_cnn_model = model_cnn.to_json()\n",
        "with open(\"model_cnn.json\", \"w\") as f:\n",
        "    json.dump(json.loads(json_cnn_model), f, indent=4)"
      ],
      "execution_count": null,
      "outputs": []
    },
    {
      "cell_type": "markdown",
      "metadata": {
        "id": "VdkxIdDK5elN"
      },
      "source": [
        "As we see above, overfitting has happened. We could try some ways of avoiding overfitting : \n",
        "    \n",
        "* Dropout\n",
        "* L2 regularization"
      ]
    },
    {
      "cell_type": "markdown",
      "metadata": {
        "id": "flHcTCaG5elN"
      },
      "source": [
        "## Approach 2 - CNN Model with Dropout"
      ]
    },
    {
      "cell_type": "code",
      "metadata": {
        "id": "IDOBBoPH5elN"
      },
      "source": [
        "# Architecture\n",
        "model_cnn_dropout = Sequential()\n",
        "model_cnn_dropout.add(Conv2D(32, (3,3), activation='relu', input_shape=(200,300,3)))\n",
        "model_cnn_dropout.add(Conv2D(32, (3,3), activation='relu'))\n",
        "model_cnn_dropout.add(MaxPooling2D(pool_size=2, strides=2))\n",
        "model_cnn_dropout.add(Conv2D(64, (3,3), activation='relu'))\n",
        "model_cnn_dropout.add(Conv2D(64, (3,3), activation='relu'))\n",
        "model_cnn_dropout.add(MaxPooling2D(pool_size=2, strides=2))\n",
        "model_cnn_dropout.add(Flatten())\n",
        "model_cnn_dropout.add(Dense(512, activation='relu'))\n",
        "model_cnn_dropout.add(Dropout(0.5))\n",
        "model_cnn_dropout.add(Dense(101, activation='softmax'))\n",
        "model_cnn_dropout.summary()\n",
        "\n",
        "# loss and optimizer\n",
        "model_cnn_dropout.compile(loss='categorical_crossentropy',optimizer='sgd', metrics=['accuracy'])\n",
        "\n",
        "# training\n",
        "callbacks = [ModelCheckpoint('cnn_model_dropout_two.h5', monitor='val_acc', save_best_only=True),\n",
        "            EarlyStopping(monitor='val_loss', patience=4, verbose=1, mode='auto')]\n",
        "model_cnn_dropout.fit(X_train, Y_train, batch_size=16, epochs=10, verbose=1, validation_data=(X_validation,Y_validation), callbacks=callbacks)"
      ],
      "execution_count": null,
      "outputs": []
    },
    {
      "cell_type": "code",
      "metadata": {
        "id": "RzbiVs9-5elO"
      },
      "source": [
        "# Train some more as val accuracy seems to be improving even though it still looks like overfit\n",
        "model_cnn_dropout.fit(X_train, Y_train, batch_size=16, epochs=10, verbose=1, validation_data=(X_validation,Y_validation), callbacks=callbacks)"
      ],
      "execution_count": null,
      "outputs": []
    },
    {
      "cell_type": "code",
      "metadata": {
        "id": "1-Ajs3cl5elO"
      },
      "source": [
        "model_cnn_dropout.save('model_cnn_dropout_with_weights.h5')"
      ],
      "execution_count": null,
      "outputs": []
    },
    {
      "cell_type": "code",
      "metadata": {
        "id": "75vSEkZX5elO"
      },
      "source": [
        "json_cnn_dropout = model_cnn_dropout.to_json()"
      ],
      "execution_count": null,
      "outputs": []
    },
    {
      "cell_type": "code",
      "metadata": {
        "id": "bR95ataF5elO"
      },
      "source": [
        "with open(\"model_cnn_dropout.json\", \"w\") as f:\n",
        "    json.dump(json.loads(json_cnn_dropout), f, indent=4)"
      ],
      "execution_count": null,
      "outputs": []
    },
    {
      "cell_type": "markdown",
      "metadata": {
        "id": "aiEhNQvX5elP"
      },
      "source": [
        "## Approach 3 - Transfer Learning"
      ]
    },
    {
      "cell_type": "code",
      "metadata": {
        "id": "1pLypjUa5elP"
      },
      "source": [
        "base_model = InceptionV3(weights='imagenet', include_top=False)\n",
        "\n",
        "transfer_learning_arch = base_model.output\n",
        "transfer_learning_arch = GlobalAveragePooling2D()(transfer_learning_arch)\n",
        "transfer_learning_arch = Dense(1024, activation='relu')(transfer_learning_arch)\n",
        "transfer_learning_arch = Dropout(0.4)(transfer_learning_arch)\n",
        "transfer_learning_arch = Dense(512, activation='relu')(transfer_learning_arch)\n",
        "transfer_learning_arch = Dropout(0.4)(transfer_learning_arch)\n",
        "predictions = Dense(101, activation='softmax')(transfer_learning_arch)\n",
        "\n",
        "transfer_learning_model = Model(inputs=base_model.input, outputs=predictions)\n",
        "transfer_learning_model.summary()"
      ],
      "execution_count": null,
      "outputs": []
    },
    {
      "cell_type": "code",
      "metadata": {
        "id": "DVG3SHWp5elP"
      },
      "source": [
        "#We freeze the model excepted the added layers\n",
        "#279 is number of mixed 9 layer\n",
        "#248 is number of mixed 8 layer\n",
        "\n",
        "for layer in transfer_learning_model.layers[:280]:\n",
        "    layer.trainable = False\n",
        "for layer in transfer_learning_model.layers[280:]:\n",
        "    layer.trainable = True"
      ],
      "execution_count": null,
      "outputs": []
    },
    {
      "cell_type": "code",
      "metadata": {
        "id": "QSSgAWU_5elP"
      },
      "source": [
        "transfer_learning_model.summary()"
      ],
      "execution_count": null,
      "outputs": []
    },
    {
      "cell_type": "code",
      "metadata": {
        "id": "qeSAamAg5elP"
      },
      "source": [
        "opt=Adadelta(lr=1.0, rho=0.9, epsilon=1e-08, decay=0.0)\n",
        "transfer_learning_model.compile(loss='categorical_crossentropy', optimizer=opt, metrics=['accuracy'])"
      ],
      "execution_count": null,
      "outputs": []
    },
    {
      "cell_type": "code",
      "metadata": {
        "id": "CTHwFbwd5elQ"
      },
      "source": [
        "callbacks = [ModelCheckpoint('transfer_learning_weights.h5', monitor='val_acc', save_best_only=True),\n",
        "            EarlyStopping(monitor='val_loss', patience=4, verbose=1, mode='auto')]\n",
        "transfer_learning_model.fit(X_train, Y_train, batch_size=32, epochs=15, verbose=1, validation_data=(X_validation,Y_validation), callbacks=callbacks)"
      ],
      "execution_count": null,
      "outputs": []
    },
    {
      "cell_type": "code",
      "metadata": {
        "id": "NCV7C9305elQ"
      },
      "source": [
        "json_transfer_learning_model = transfer_learning_model.to_json()\n",
        "with open(\"model_transfer_learning.json\", \"w\") as f:\n",
        "    json.dump(json.loads(json_transfer_learning_model), f, indent=4)"
      ],
      "execution_count": null,
      "outputs": []
    },
    {
      "cell_type": "markdown",
      "metadata": {
        "id": "5D6MoidB5elQ"
      },
      "source": [
        "## Prediction from 2 models"
      ]
    },
    {
      "cell_type": "markdown",
      "metadata": {
        "id": "u1LJ_Qha5elQ"
      },
      "source": [
        "#### Predicting for one image"
      ]
    },
    {
      "cell_type": "code",
      "metadata": {
        "id": "6fpidyta5elQ"
      },
      "source": [
        "dolphin_imgs = get_images('dolphin','./data')"
      ],
      "execution_count": null,
      "outputs": []
    },
    {
      "cell_type": "code",
      "metadata": {
        "id": "8FhE9HnN5elQ"
      },
      "source": [
        "dolphin_imgs[0]"
      ],
      "execution_count": null,
      "outputs": []
    },
    {
      "cell_type": "code",
      "metadata": {
        "id": "LfE5VQ0q5elR"
      },
      "source": [
        "img = read_image(dolphin_imgs[0])"
      ],
      "execution_count": null,
      "outputs": []
    },
    {
      "cell_type": "code",
      "metadata": {
        "id": "9XaVnKAq5elR"
      },
      "source": [
        "img.shape"
      ],
      "execution_count": null,
      "outputs": []
    },
    {
      "cell_type": "code",
      "metadata": {
        "id": "kpdKnrNr5elR"
      },
      "source": [
        "img = img.reshape((1,200,300,3))"
      ],
      "execution_count": null,
      "outputs": []
    },
    {
      "cell_type": "code",
      "metadata": {
        "id": "aHTbsYSZ5elR"
      },
      "source": [
        "prediction = model_cnn_dropout.predict(img)"
      ],
      "execution_count": null,
      "outputs": []
    },
    {
      "cell_type": "code",
      "metadata": {
        "id": "TzuNr-S-5elR"
      },
      "source": [
        "label_predicted = label_encoder.inverse_transform(np.argmax(prediction))\n",
        "print(label_predicted)"
      ],
      "execution_count": null,
      "outputs": []
    },
    {
      "cell_type": "code",
      "metadata": {
        "id": "3bJ4jwL75elS"
      },
      "source": [
        "for var, obj in locals().items():\n",
        "    print(var, sys.getsizeof(obj))"
      ],
      "execution_count": null,
      "outputs": []
    },
    {
      "cell_type": "markdown",
      "metadata": {
        "id": "KBw92OFU5elS"
      },
      "source": [
        "## Accuracy per category"
      ]
    },
    {
      "cell_type": "code",
      "metadata": {
        "id": "_QlGPxJ45elS"
      },
      "source": [
        "def find_accuracy_per_category(data_directory, nn_model):\n",
        "    category_accuracy_dict = {}\n",
        "    for category,count in return_images_per_category(data_directory):\n",
        "        correctly_classified = 0\n",
        "        if category == 'BACKGROUND_Google':\n",
        "            continue\n",
        "        Y_category = [category for _ in range(count)]\n",
        "        encoded = label_encoder.transform(Y_category)\n",
        "        Y_category = to_categorical(encoded, num_classes=101)\n",
        "        assert Y_category.shape == (count, 101)\n",
        "        X_category = np.ndarray((count, 200, 300, 3), dtype=np.float64)\n",
        "        for i,img in enumerate(get_images(category, data_directory)):\n",
        "            if not img.endswith('.jpg'):\n",
        "                # to escape hidden ipynb checkpoints and other unnecessary files \n",
        "                continue\n",
        "            X_category[i] = read_image(img) / 255\n",
        "        score = nn_model.evaluate(x=X_category, y=Y_category, verbose=1)\n",
        "        del X_category\n",
        "        category_accuracy_dict[category] = score\n",
        "    print(\"Accuracy found for each class\")\n",
        "    return category_accuracy_dict"
      ],
      "execution_count": null,
      "outputs": []
    },
    {
      "cell_type": "code",
      "metadata": {
        "id": "qr_OYA5p5elS",
        "colab": {
          "base_uri": "https://localhost:8080/",
          "height": 178
        },
        "outputId": "b8e9b0ea-7db3-471e-f35f-d0fc8a868634"
      },
      "source": [
        "# Testing first model\n",
        "cnn_dropout_score_dict = find_accuracy_per_category('./data', model_cnn_dropout)"
      ],
      "execution_count": null,
      "outputs": [
        {
          "output_type": "error",
          "ename": "NameError",
          "evalue": "ignored",
          "traceback": [
            "\u001b[0;31m---------------------------------------------------------------------------\u001b[0m",
            "\u001b[0;31mNameError\u001b[0m                                 Traceback (most recent call last)",
            "\u001b[0;32m<ipython-input-123-27c9ad552b48>\u001b[0m in \u001b[0;36m<module>\u001b[0;34m()\u001b[0m\n\u001b[1;32m      1\u001b[0m \u001b[0;31m# Testing first model\u001b[0m\u001b[0;34m\u001b[0m\u001b[0;34m\u001b[0m\u001b[0;34m\u001b[0m\u001b[0m\n\u001b[0;32m----> 2\u001b[0;31m \u001b[0mcnn_dropout_score_dict\u001b[0m \u001b[0;34m=\u001b[0m \u001b[0mfind_accuracy_per_category\u001b[0m\u001b[0;34m(\u001b[0m\u001b[0;34m'./data'\u001b[0m\u001b[0;34m,\u001b[0m \u001b[0mmodel_cnn_dropout\u001b[0m\u001b[0;34m)\u001b[0m\u001b[0;34m\u001b[0m\u001b[0;34m\u001b[0m\u001b[0m\n\u001b[0m",
            "\u001b[0;31mNameError\u001b[0m: name 'model_cnn_dropout' is not defined"
          ]
        }
      ]
    },
    {
      "cell_type": "code",
      "metadata": {
        "id": "LVc_TavW5elT"
      },
      "source": [
        "# Free memory - those variables which aren't needed\n",
        "del X\n",
        "del X_normalized"
      ],
      "execution_count": null,
      "outputs": []
    },
    {
      "cell_type": "code",
      "metadata": {
        "id": "vPraOv0J5elT"
      },
      "source": [
        "# Testing the dropout model\n",
        "cnn_dropout_score_dict = find_accuracy_per_category('./data', model_cnn_dropout)"
      ],
      "execution_count": null,
      "outputs": []
    },
    {
      "cell_type": "code",
      "metadata": {
        "id": "OOK1F-Qo5elT"
      },
      "source": [
        "# Testing the transfer learning model\n",
        "cnn_dropout_score_dict_transfer_learning = find_accuracy_per_category('./data', transfer_learning_model)"
      ],
      "execution_count": null,
      "outputs": []
    },
    {
      "cell_type": "code",
      "metadata": {
        "id": "iDIkAKpP5elT"
      },
      "source": [
        "average_accuracy = 0\n",
        "for category, scores in cnn_dropout_score_dict.items():\n",
        "    print(category,\":\",scores[1])\n",
        "    average_accuracy += scores[1]\n",
        "average_accuracy /= 101\n",
        "print(\"Average accuracy : \",average_accuracy)"
      ],
      "execution_count": null,
      "outputs": []
    },
    {
      "cell_type": "markdown",
      "metadata": {
        "id": "sxp7vxtE5elT"
      },
      "source": [
        "**So, as we can see, we achieve an average accuracy of 83% per category with our CNN models. This isn't bad.**"
      ]
    },
    {
      "cell_type": "code",
      "metadata": {
        "id": "kdhw-pr55elU"
      },
      "source": [
        "def find_average_accuracy_for_model(data_directory, nn_model):\n",
        "    category_accuracy_dict = find_accuracy_per_category('./data', transfer_learning_model)\n",
        "    average_accuracy = 0\n",
        "    for category, scores in category_accuracy_dict.items():\n",
        "        print(category,\":\",scores[1])\n",
        "        average_accuracy += scores[1]\n",
        "    average_accuracy /= 101\n",
        "    print(\"Average accuracy : \",average_accuracy)"
      ],
      "execution_count": null,
      "outputs": []
    },
    {
      "cell_type": "code",
      "metadata": {
        "id": "X9uRW8qP5elU"
      },
      "source": [
        "find_average_accuracy_for_model('./data',transfer_learning_model)"
      ],
      "execution_count": null,
      "outputs": []
    },
    {
      "cell_type": "markdown",
      "metadata": {
        "id": "W3rnG7bo5elU"
      },
      "source": [
        "**Average accuracy using transfer learning model : 97%**"
      ]
    },
    {
      "cell_type": "markdown",
      "metadata": {
        "id": "b6PUMIFU5elV"
      },
      "source": [
        "## What else can we do?\n",
        "\n",
        "Due to time constraints there are a lot of things I couldn't try right now, however could be done to : \n",
        "\n",
        "**Improve our object classification**\n",
        "- I'm certain that our CNN models could be optimized further. The dataset is quite an easy one compared to likes of imagenet, so a simple model should be able to work quite well if optimized well\n",
        "- Add visualizations of losses and training and predictions\n",
        "- Try other algorithms and other NN architectures\n",
        "\n",
        "**Do Object Detection**\n",
        "Currently, if you look at this dataset, most of the images are clutter free, containing image of only one object, which is also centered in most of the cases. This makes this dataset less challenging for object detection problem. Also, one could perhaps just have a bad version of sliding window or R-CNN algorithm which could do detection problem here and give good boundary boxes.\n",
        "\n",
        "However, to improve upon that, YOLO and SSD algorithms could be used to detect where which object is in an image. "
      ]
    },
    {
      "cell_type": "code",
      "metadata": {
        "id": "lJHkOdVP5elV"
      },
      "source": [],
      "execution_count": null,
      "outputs": []
    }
  ]
}